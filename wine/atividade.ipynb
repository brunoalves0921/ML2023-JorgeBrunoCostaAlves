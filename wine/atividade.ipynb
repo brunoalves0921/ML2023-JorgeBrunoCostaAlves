{
 "cells": [
  {
   "cell_type": "code",
   "execution_count": 3,
   "metadata": {},
   "outputs": [
    {
     "name": "stdout",
     "output_type": "stream",
     "text": [
      "Erro quadrático médio do modelo de teste:  4.5094281804329244e+23\n",
      "Erro absoluto médio do modelo de teste:  557592016581.3872\n",
      "Erro quadrático médio do modelo de treino:  4.3215854918934197e+23\n",
      "Erro absoluto médio do modelo de treino:  549405705728.733\n"
     ]
    }
   ],
   "source": [
    "import pandas as pd\n",
    "import numpy as np\n",
    "from sklearn.model_selection import train_test_split\n",
    "from sklearn.linear_model import SGDRegressor\n",
    "from sklearn.metrics import mean_squared_error\n",
    "from sklearn.metrics import mean_absolute_error\n",
    "\n",
    "#Carregando o arquivo winequality-red.csv\n",
    "df = pd.read_csv('winequality-white.csv', sep=';')\n",
    "\n",
    "#Dividindo o conjunto de dados em treino e teste (80% para treino e 20% para teste)\n",
    "X = df.drop('quality', axis=1)\n",
    "y = df['quality']\n",
    "X_train, X_test, y_train, y_test = train_test_split(X, y, test_size=0.2, random_state=42)\n",
    "\n",
    "#Treinando o modelo\n",
    "model = SGDRegressor()\n",
    "model.fit(X_train, y_train)\n",
    "\n",
    "#Fazendo as predições\n",
    "y_pred = model.predict(X_test)\n",
    "\n",
    "#Calculando o erro quadrático médio e o erro absoluto médio do modelo de teste e do modelo de treino\n",
    "print('Erro quadrático médio do modelo de teste: ', mean_squared_error(y_test, y_pred))\n",
    "print('Erro absoluto médio do modelo de teste: ', mean_absolute_error(y_test, y_pred))\n",
    "\n",
    "print('Erro quadrático médio do modelo de treino: ', mean_squared_error(y_train, model.predict(X_train)))\n",
    "print('Erro absoluto médio do modelo de treino: ', mean_absolute_error(y_train, model.predict(X_train)))\n",
    "\n"
   ]
  },
  {
   "attachments": {},
   "cell_type": "markdown",
   "metadata": {},
   "source": [
    "Podemos dizer que o modelo se comportou melhor no conjunto de dados de treinamento. Isso é indicado pelos valores de erro quadrático médio e absoluto médio mais baixos para o modelo de treinamento em comparação com o modelo de teste mesmo que os valores sejam bem parecidos, o modelo de treino se saiu melhor."
   ]
  },
  {
   "cell_type": "code",
   "execution_count": null,
   "metadata": {},
   "outputs": [],
   "source": []
  }
 ],
 "metadata": {
  "kernelspec": {
   "display_name": "Python 3",
   "language": "python",
   "name": "python3"
  },
  "language_info": {
   "codemirror_mode": {
    "name": "ipython",
    "version": 3
   },
   "file_extension": ".py",
   "mimetype": "text/x-python",
   "name": "python",
   "nbconvert_exporter": "python",
   "pygments_lexer": "ipython3",
   "version": "3.10.7"
  },
  "orig_nbformat": 4
 },
 "nbformat": 4,
 "nbformat_minor": 2
}
