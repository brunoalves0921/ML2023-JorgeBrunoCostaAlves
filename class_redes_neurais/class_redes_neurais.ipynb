{
 "cells": [
  {
   "attachments": {},
   "cell_type": "markdown",
   "metadata": {},
   "source": [
    "# Classificação Redes Neurais - Wisconsin Diagnostic Breast Cancer\n",
    "\n",
    "## Descrição da atividade\n",
    "\n",
    "- Nesta lista vamos fazer a predição para saber se um tumor de mama é benigno ou maligno a partir do dataset \"Wisconsin Diagnostic Breast Cancer (WDBC)\".\n",
    "- Será utilizado 70% dos dados para treino e outros 30% para teste.\n",
    "- Vamos criar modelos de aprendizado de máquina usando os seguintes algoritmos:\n",
    "  - Perceptron\n",
    "  - Adaline com Gradiente Descendente\n",
    "  - Adaline com Gradiente Descentente Estocástico\n",
    "  - Adaline com Gradiente Descendente Estocástico usando mini-batches de 20 elementos (mesmo do item anterior, mas agora com mini-batch).\n",
    "- Os resultados obtidos entre os algoritmos acima usando a métrica acurácia serão comparados no final desta atividade."
   ]
  },
  {
   "attachments": {},
   "cell_type": "markdown",
   "metadata": {},
   "source": [
    "## Importações"
   ]
  },
  {
   "cell_type": "code",
   "execution_count": 32,
   "metadata": {},
   "outputs": [],
   "source": [
    "import numpy as np\n",
    "from sklearn.datasets import load_breast_cancer\n",
    "from sklearn.model_selection import train_test_split\n",
    "from sklearn.preprocessing import StandardScaler\n",
    "from sklearn.metrics import accuracy_score\n",
    "from sklearn.linear_model import Perceptron, SGDClassifier"
   ]
  },
  {
   "attachments": {},
   "cell_type": "markdown",
   "metadata": {},
   "source": [
    "## Carregamento e divisão dos dados"
   ]
  },
  {
   "cell_type": "code",
   "execution_count": 33,
   "metadata": {},
   "outputs": [],
   "source": [
    "data = load_breast_cancer()\n",
    "X = data.data\n",
    "y = data.target\n",
    "\n",
    "X_train, X_test, y_train, y_test = train_test_split(X, y, test_size=0.3, stratify=y)"
   ]
  },
  {
   "attachments": {},
   "cell_type": "markdown",
   "metadata": {},
   "source": [
    "## Normalização dos dados"
   ]
  },
  {
   "cell_type": "code",
   "execution_count": 34,
   "metadata": {},
   "outputs": [],
   "source": [
    "scaler = StandardScaler()\n",
    "X_train_std = scaler.fit_transform(X_train)\n",
    "X_test_std = scaler.transform(X_test)"
   ]
  },
  {
   "attachments": {},
   "cell_type": "markdown",
   "metadata": {},
   "source": [
    "## Perceptron"
   ]
  },
  {
   "cell_type": "code",
   "execution_count": 35,
   "metadata": {},
   "outputs": [],
   "source": [
    "perceptron = Perceptron(random_state=5)\n",
    "perceptron.fit(X_train_std, y_train)\n",
    "y_pred_perceptron = perceptron.predict(X_test_std)\n",
    "accuracy_perceptron = accuracy_score(y_test, y_pred_perceptron)"
   ]
  },
  {
   "attachments": {},
   "cell_type": "markdown",
   "metadata": {},
   "source": [
    "## Adaline com Gradiente Descendente"
   ]
  },
  {
   "cell_type": "code",
   "execution_count": 36,
   "metadata": {},
   "outputs": [],
   "source": [
    "class Adaline(object):\n",
    "    def __init__(self, eta=0.001, epoch=100):\n",
    "        self.eta = eta\n",
    "        self.epoch = epoch\n",
    "\n",
    "    def fit(self, X, y):\n",
    "        np.random.seed(16)\n",
    "        self.weight_ = np.random.uniform(-1, 1, X.shape[1] + 1)\n",
    "        self.error_ = []\n",
    "\n",
    "        cost = 0\n",
    "        for _ in range(self.epoch):\n",
    "            output = self.activation_function(X)\n",
    "            error = y - output\n",
    "\n",
    "            self.weight_[0] += self.eta * sum(error)\n",
    "            self.weight_[1:] += self.eta * X.T.dot(error)\n",
    "\n",
    "            cost = 1./2 * sum((error**2))\n",
    "            self.error_.append(cost)\n",
    "\n",
    "        return self\n",
    "\n",
    "    def net_input(self, X):\n",
    "        \"\"\"Calculo da entrada z\"\"\"\n",
    "        return np.dot(X, self.weight_[1:]) + self.weight_[0]\n",
    "\n",
    "    def activation_function(self, X):\n",
    "        \"\"\"Calculo da saida da funcao g(z)\"\"\"\n",
    "        return self.net_input(X)\n",
    "\n",
    "    def predict(self, X):\n",
    "        \"\"\"Retornar valores binaros 0 ou 1\"\"\"\n",
    "        return np.where(self.activation_function(X) >= 0.0, 1, -1)\n",
    "\n",
    "adaline = Adaline()\n",
    "adaline.fit(X_train_std, y_train)\n",
    "y_pred_adaline = adaline.predict(X_test_std)\n",
    "accuracy_adaline = accuracy_score(y_test, y_pred_adaline)\n"
   ]
  },
  {
   "attachments": {},
   "cell_type": "markdown",
   "metadata": {},
   "source": [
    "## Adaline com Gradiente Descendente Estocástico"
   ]
  },
  {
   "cell_type": "code",
   "execution_count": 37,
   "metadata": {},
   "outputs": [],
   "source": [
    "sgd = SGDClassifier(random_state=7)\n",
    "sgd.fit(X_train_std, y_train)\n",
    "y_pred_sgd = sgd.predict(X_test_std)\n",
    "accuracy_sgd = accuracy_score(y_test, y_pred_sgd)\n"
   ]
  },
  {
   "attachments": {},
   "cell_type": "markdown",
   "metadata": {},
   "source": [
    "## Adaline com Gradiente Descendente Estocástico (mini-batches de 20 elementos)"
   ]
  },
  {
   "cell_type": "code",
   "execution_count": 38,
   "metadata": {},
   "outputs": [],
   "source": [
    "from sklearn.linear_model import SGDClassifier\n",
    "\n",
    "sgd_mini_batch = SGDClassifier(random_state=7, max_iter=1000, tol=1e-3)\n",
    "sgd_mini_batch.fit(X_train_std, y_train)\n",
    "\n",
    "batch_size = 20\n",
    "n_samples = X_train_std.shape[0]\n",
    "\n",
    "n_batches = n_samples // batch_size\n",
    "if n_samples % batch_size != 0:\n",
    "    n_batches += 1\n",
    "\n",
    "accuracy_sgd_mini_batch = 0.0\n",
    "\n",
    "for i in range(n_batches):\n",
    "    start_idx = i * batch_size\n",
    "    end_idx = (i + 1) * batch_size\n",
    "    X_batch = X_train_std[start_idx:end_idx]\n",
    "    y_batch = y_train[start_idx:end_idx]\n",
    "    y_pred_batch = sgd_mini_batch.predict(X_batch)\n",
    "    accuracy_sgd_mini_batch += accuracy_score(y_batch, y_pred_batch) * len(X_batch)\n",
    "\n",
    "accuracy_sgd_mini_batch /= n_samples\n"
   ]
  },
  {
   "attachments": {},
   "cell_type": "markdown",
   "metadata": {},
   "source": [
    "## Impressão dos resultados"
   ]
  },
  {
   "cell_type": "code",
   "execution_count": 39,
   "metadata": {},
   "outputs": [
    {
     "name": "stdout",
     "output_type": "stream",
     "text": [
      "Perceptron: 98.25%\n",
      "Adaline com Gradiente Descendente: 59.06%\n",
      "Adaline com Gradiente Descendente Estocástico: 97.08%\n",
      "Adaline com Gradiente Descendente Estocástico (mini-batches de 20 elementos): 98.49%\n"
     ]
    }
   ],
   "source": [
    "print(\"Perceptron: {:.2f}%\".format(accuracy_perceptron * 100))\n",
    "print(\"Adaline com Gradiente Descendente: {:.2f}%\".format(accuracy_adaline * 100))\n",
    "print(\"Adaline com Gradiente Descendente Estocástico: {:.2f}%\".format(accuracy_sgd * 100))\n",
    "print(\"Adaline com Gradiente Descendente Estocástico (mini-batches de 20 elementos): {:.2f}%\".format(accuracy_sgd_mini_batch * 100))\n"
   ]
  }
 ],
 "metadata": {
  "kernelspec": {
   "display_name": "Python 3",
   "language": "python",
   "name": "python3"
  },
  "language_info": {
   "codemirror_mode": {
    "name": "ipython",
    "version": 3
   },
   "file_extension": ".py",
   "mimetype": "text/x-python",
   "name": "python",
   "nbconvert_exporter": "python",
   "pygments_lexer": "ipython3",
   "version": "3.10.7"
  },
  "orig_nbformat": 4
 },
 "nbformat": 4,
 "nbformat_minor": 2
}
